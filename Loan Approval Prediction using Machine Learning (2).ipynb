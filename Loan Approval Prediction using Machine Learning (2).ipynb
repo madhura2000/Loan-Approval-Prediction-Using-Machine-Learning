{
 "cells": [
  {
   "cell_type": "markdown",
   "id": "937a068e-098a-4521-81ef-02940dba9446",
   "metadata": {},
   "source": [
    "LOANS are the major requirement of the modern world. By this only, Banks get a major part of the total profit. It is beneficial for students to manage their education and living expenses, and for people to buy any kind of luxury like houses, cars, etc.\n",
    "\n",
    "But when it comes to deciding whether the applicant’s profile is relevant to be granted with loan or not. Banks have to look after many aspects.\n",
    "\n",
    "So, here we will be using Machine Learning with Python to ease their work and predict whether the candidate’s profile is relevant or not using key features like Marital Status, Education, Applicant Income, Credit History, etc."
   ]
  },
  {
   "cell_type": "raw",
   "id": "f326734e-cbf7-4cd1-9863-d33b6730bdeb",
   "metadata": {},
   "source": [
    "The dataset contains 13 features : \n",
    "\n",
    "1.  Loan - A unique id\n",
    "2.  Gender -Gender of the applicant Male/female\r\n",
    "3\tMarrie d-\tMarital Status of the applicant, values will be Yes/ No\r\n",
    "4\tDependt- - s\tIt tells whether the applicant has any dependents or not.\r\n",
    "5\tEdui - - on\tIt will tell us whether the applicant is Graduated or not.\r\n",
    "6\tSelf_ol - - yed\tThis defines that the applicant is self-employed i.e. Yes/ No\r\n",
    "7\tAppl_intI - - come\tApplicant income\r\n",
    "8\tCoapp_iant - - ncome\tCo-applicant incomen_\tLoa - - Amount\tLoan amount (in thousands)\r\n",
    "10\tun_Amo - - nt_Term\tTerms of loan (in months)\r",
    "_Credi - - _History\tCredit history of individual’s repayment of their debp\n",
    "12\tPro - erty_Area\tArea of property i.e. Rural/Urban/Semi-Lan \r\n",
    "13\t - oan_Status\tStatus of Loan Approved or not i.e. Y- es, N-No  \r\n"
   ]
  },
  {
   "cell_type": "raw",
   "id": "df51a4e4-915b-4059-814a-28c0be464ffd",
   "metadata": {},
   "source": [
    "Importing Libraries and Dataset\n",
    "Firstly we have to import libraries : \n",
    "\n",
    "Pandas – To load the Dataframe\n",
    "Matplotlib – To visualize the data features i.e. barplot\n",
    "Seaborn – To see the correlation between features using heatmap"
   ]
  },
  {
   "cell_type": "code",
   "execution_count": 1,
   "id": "bcb7b6ca-8f45-457a-8141-c59b837aaa08",
   "metadata": {},
   "outputs": [],
   "source": [
    "import pandas as pd\n",
    "import numpy as np\n",
    "import matplotlib.pyplot as plt\n",
    "import seaborn as sns\n",
    "import warnings \n",
    "warnings.filterwarnings(\"ignore\")"
   ]
  },
  {
   "cell_type": "code",
   "execution_count": 2,
   "id": "e8a14a89-7da5-4b16-99da-4e25c1b30259",
   "metadata": {},
   "outputs": [
    {
     "data": {
      "text/html": [
       "<div>\n",
       "<style scoped>\n",
       "    .dataframe tbody tr th:only-of-type {\n",
       "        vertical-align: middle;\n",
       "    }\n",
       "\n",
       "    .dataframe tbody tr th {\n",
       "        vertical-align: top;\n",
       "    }\n",
       "\n",
       "    .dataframe thead th {\n",
       "        text-align: right;\n",
       "    }\n",
       "</style>\n",
       "<table border=\"1\" class=\"dataframe\">\n",
       "  <thead>\n",
       "    <tr style=\"text-align: right;\">\n",
       "      <th></th>\n",
       "      <th>Loan_ID</th>\n",
       "      <th>Gender</th>\n",
       "      <th>Married</th>\n",
       "      <th>Dependents</th>\n",
       "      <th>Education</th>\n",
       "      <th>Self_Employed</th>\n",
       "      <th>ApplicantIncome</th>\n",
       "      <th>CoapplicantIncome</th>\n",
       "      <th>LoanAmount</th>\n",
       "      <th>Loan_Amount_Term</th>\n",
       "      <th>Credit_History</th>\n",
       "      <th>Property_Area</th>\n",
       "      <th>Loan_Status</th>\n",
       "    </tr>\n",
       "  </thead>\n",
       "  <tbody>\n",
       "    <tr>\n",
       "      <th>0</th>\n",
       "      <td>LP001002</td>\n",
       "      <td>Male</td>\n",
       "      <td>No</td>\n",
       "      <td>0.0</td>\n",
       "      <td>Graduate</td>\n",
       "      <td>No</td>\n",
       "      <td>5849</td>\n",
       "      <td>0.0</td>\n",
       "      <td>NaN</td>\n",
       "      <td>360.0</td>\n",
       "      <td>1.0</td>\n",
       "      <td>Urban</td>\n",
       "      <td>Y</td>\n",
       "    </tr>\n",
       "    <tr>\n",
       "      <th>1</th>\n",
       "      <td>LP001003</td>\n",
       "      <td>Male</td>\n",
       "      <td>Yes</td>\n",
       "      <td>1.0</td>\n",
       "      <td>Graduate</td>\n",
       "      <td>No</td>\n",
       "      <td>4583</td>\n",
       "      <td>1508.0</td>\n",
       "      <td>128.0</td>\n",
       "      <td>360.0</td>\n",
       "      <td>1.0</td>\n",
       "      <td>Rural</td>\n",
       "      <td>N</td>\n",
       "    </tr>\n",
       "    <tr>\n",
       "      <th>2</th>\n",
       "      <td>LP001005</td>\n",
       "      <td>Male</td>\n",
       "      <td>Yes</td>\n",
       "      <td>0.0</td>\n",
       "      <td>Graduate</td>\n",
       "      <td>Yes</td>\n",
       "      <td>3000</td>\n",
       "      <td>0.0</td>\n",
       "      <td>66.0</td>\n",
       "      <td>360.0</td>\n",
       "      <td>1.0</td>\n",
       "      <td>Urban</td>\n",
       "      <td>Y</td>\n",
       "    </tr>\n",
       "    <tr>\n",
       "      <th>3</th>\n",
       "      <td>LP001006</td>\n",
       "      <td>Male</td>\n",
       "      <td>Yes</td>\n",
       "      <td>0.0</td>\n",
       "      <td>Not Graduate</td>\n",
       "      <td>No</td>\n",
       "      <td>2583</td>\n",
       "      <td>2358.0</td>\n",
       "      <td>120.0</td>\n",
       "      <td>360.0</td>\n",
       "      <td>1.0</td>\n",
       "      <td>Urban</td>\n",
       "      <td>Y</td>\n",
       "    </tr>\n",
       "    <tr>\n",
       "      <th>4</th>\n",
       "      <td>LP001008</td>\n",
       "      <td>Male</td>\n",
       "      <td>No</td>\n",
       "      <td>0.0</td>\n",
       "      <td>Graduate</td>\n",
       "      <td>No</td>\n",
       "      <td>6000</td>\n",
       "      <td>0.0</td>\n",
       "      <td>141.0</td>\n",
       "      <td>360.0</td>\n",
       "      <td>1.0</td>\n",
       "      <td>Urban</td>\n",
       "      <td>Y</td>\n",
       "    </tr>\n",
       "  </tbody>\n",
       "</table>\n",
       "</div>"
      ],
      "text/plain": [
       "    Loan_ID Gender Married  Dependents     Education Self_Employed  \\\n",
       "0  LP001002   Male      No         0.0      Graduate            No   \n",
       "1  LP001003   Male     Yes         1.0      Graduate            No   \n",
       "2  LP001005   Male     Yes         0.0      Graduate           Yes   \n",
       "3  LP001006   Male     Yes         0.0  Not Graduate            No   \n",
       "4  LP001008   Male      No         0.0      Graduate            No   \n",
       "\n",
       "   ApplicantIncome  CoapplicantIncome  LoanAmount  Loan_Amount_Term  \\\n",
       "0             5849                0.0         NaN             360.0   \n",
       "1             4583             1508.0       128.0             360.0   \n",
       "2             3000                0.0        66.0             360.0   \n",
       "3             2583             2358.0       120.0             360.0   \n",
       "4             6000                0.0       141.0             360.0   \n",
       "\n",
       "   Credit_History Property_Area Loan_Status  \n",
       "0             1.0         Urban           Y  \n",
       "1             1.0         Rural           N  \n",
       "2             1.0         Urban           Y  \n",
       "3             1.0         Urban           Y  \n",
       "4             1.0         Urban           Y  "
      ]
     },
     "execution_count": 2,
     "metadata": {},
     "output_type": "execute_result"
    }
   ],
   "source": [
    "data = pd.read_csv(r\"C:\\Users\\madhu\\Downloads\\LoanApprovalPrediction.csv\")\n",
    "data.head()"
   ]
  },
  {
   "cell_type": "code",
   "execution_count": 3,
   "id": "f6af058c-b9ee-4289-abe7-a825f8daac2f",
   "metadata": {},
   "outputs": [
    {
     "data": {
      "text/plain": [
       "Loan_ID               object\n",
       "Gender                object\n",
       "Married               object\n",
       "Dependents           float64\n",
       "Education             object\n",
       "Self_Employed         object\n",
       "ApplicantIncome        int64\n",
       "CoapplicantIncome    float64\n",
       "LoanAmount           float64\n",
       "Loan_Amount_Term     float64\n",
       "Credit_History       float64\n",
       "Property_Area         object\n",
       "Loan_Status           object\n",
       "dtype: object"
      ]
     },
     "execution_count": 3,
     "metadata": {},
     "output_type": "execute_result"
    }
   ],
   "source": [
    "data.dtypes"
   ]
  },
  {
   "cell_type": "code",
   "execution_count": 4,
   "id": "efa1c96d-487e-4c6d-82c3-319746196c55",
   "metadata": {},
   "outputs": [
    {
     "name": "stdout",
     "output_type": "stream",
     "text": [
      "Categorical variables: 7\n"
     ]
    }
   ],
   "source": [
    "obj = (data.dtypes == 'object')\n",
    "print(\"Categorical variables:\", len(list(obj[obj].index)))"
   ]
  },
  {
   "cell_type": "raw",
   "id": "37fd643d-f89f-482f-b60e-0194f36b5165",
   "metadata": {},
   "source": [
    "As Loan_ID is completely unique and not correlated with any of the other column, So we will drop it using .drop() function."
   ]
  },
  {
   "cell_type": "code",
   "execution_count": 5,
   "id": "4bdd7733-80e7-4061-8da3-f34c7ec97283",
   "metadata": {},
   "outputs": [],
   "source": [
    "# Dropping Loan_ID column\n",
    "data.drop(['Loan_ID'] , axis = 1 , inplace = True)"
   ]
  },
  {
   "cell_type": "raw",
   "id": "9dbb7d3c-b96f-4462-8c9e-a6b182dda22d",
   "metadata": {},
   "source": [
    "Visualize all the unique values in columns using barplot. This will simply show which value is dominating as per our dataset."
   ]
  },
  {
   "cell_type": "code",
   "execution_count": 6,
   "id": "533bd0fd-2894-41b1-a533-9ebf1510a9d8",
   "metadata": {},
   "outputs": [
    {
     "data": {
      "image/png": "[encoded data removed]",
      "text/plain": [
       "<Figure size 1800x3600 with 6 Axes>"
      ]
     },
     "metadata": {},
     "output_type": "display_data"
    }
   ],
   "source": [
    "obj = (data.dtypes == 'object')\n",
    "object_cols = list(obj[obj].index)\n",
    "plt.figure(figsize = (18,36))\n",
    "index = 1\n",
    "\n",
    "for col in object_cols:\n",
    "    y = data[col].value_counts()\n",
    "    plt.subplot(11,4,index)\n",
    "    plt.xticks(rotation = 90)\n",
    "    sns.barplot(x=list(y.index), y=y) \n",
    "    index +=1"
   ]
  },
  {
   "cell_type": "markdown",
   "id": "76af2dff-ec3d-4fd7-9318-b948a12d2d60",
   "metadata": {},
   "source": [
    "As all the categorical values are binary so we can use Label Encoder for all such columns and the values will change into int datatype."
   ]
  },
  {
   "cell_type": "code",
   "execution_count": 7,
   "id": "2af5c24a-1865-4583-8aa9-11fd9aa16bee",
   "metadata": {},
   "outputs": [],
   "source": [
    "# Import label encoder\n",
    "from sklearn.preprocessing import LabelEncoder\n",
    "le = LabelEncoder()\n",
    "for col in list(obj[obj].index):\n",
    "    data[col] = le.fit_transform(data[col])"
   ]
  },
  {
   "cell_type": "markdown",
   "id": "b7024945-9658-4f87-81b8-44c0e206df44",
   "metadata": {},
   "source": [
    "Again check the object datatype columns. Let’s find out if there is still any left."
   ]
  },
  {
   "cell_type": "code",
   "execution_count": 8,
   "id": "8fdb9508-31f8-4371-a01a-996f93a0447d",
   "metadata": {},
   "outputs": [
    {
     "name": "stdout",
     "output_type": "stream",
     "text": [
      "categorical variables: 0\n"
     ]
    }
   ],
   "source": [
    "obj = (data.dtypes == 'object')\n",
    "print(\"categorical variables:\" , len(list(obj[obj].index)))"
   ]
  },
  {
   "cell_type": "markdown",
   "id": "21b25eac-b567-4e37-89ac-5bdb45b5380a",
   "metadata": {},
   "source": [
    "plt.figure(figsize = (12 , 6))\n",
    "sns.heatmap(data.corr() , cmap = 'magma' , fmt = '.2f' , linewidth = 2 , annot = True)"
   ]
  },
  {
   "cell_type": "markdown",
   "id": "2405c48d-1e66-42f0-a31b-328ef879609d",
   "metadata": {},
   "source": [
    "The above heatmap is showing the correlation between Loan Amount and ApplicantIncome. It also shows that Credit_History has a high impact on Loan_Status."
   ]
  },
  {
   "cell_type": "markdown",
   "id": "52e6c114-25cc-4bcc-998f-119edaf3e199",
   "metadata": {},
   "source": [
    "Now we will use Catplot to visualize the plot for the Gender, and Marital Status of the applicant."
   ]
  },
  {
   "cell_type": "code",
   "execution_count": 9,
   "id": "c985b9ed-72f3-4b59-af6a-11542ef38643",
   "metadata": {},
   "outputs": [
    {
     "data": {
      "image/png": "[encoded data removed]",
      "text/plain": [
       "<Figure size 595.736x500 with 1 Axes>"
      ]
     },
     "metadata": {},
     "output_type": "display_data"
    }
   ],
   "source": [
    "sns.catplot(x = \"Gender\" , y = \"Married\",hue = \"Loan_Status\" , kind = \"bar\" , data = data)\n",
    "plt.show()"
   ]
  },
  {
   "cell_type": "code",
   "execution_count": 10,
   "id": "0e4f14db-5a00-4042-a79b-f5ec03d2e0ec",
   "metadata": {},
   "outputs": [
    {
     "data": {
      "text/plain": [
       "Gender                0\n",
       "Married               0\n",
       "Dependents           12\n",
       "Education             0\n",
       "Self_Employed         0\n",
       "ApplicantIncome       0\n",
       "CoapplicantIncome     0\n",
       "LoanAmount           21\n",
       "Loan_Amount_Term     14\n",
       "Credit_History       49\n",
       "Property_Area         0\n",
       "Loan_Status           0\n",
       "dtype: int64"
      ]
     },
     "execution_count": 10,
     "metadata": {},
     "output_type": "execute_result"
    }
   ],
   "source": [
    "# checking missing values\n",
    "\n",
    "data.isnull().sum()"
   ]
  },
  {
   "cell_type": "code",
   "execution_count": 11,
   "id": "e2d83d23-3fbb-49b2-a0e9-01aba4ad5882",
   "metadata": {},
   "outputs": [
    {
     "data": {
      "text/plain": [
       "Index(['Gender', 'Married', 'Dependents', 'Education', 'Self_Employed',\n",
       "       'ApplicantIncome', 'CoapplicantIncome', 'LoanAmount',\n",
       "       'Loan_Amount_Term', 'Credit_History', 'Property_Area', 'Loan_Status'],\n",
       "      dtype='object')"
      ]
     },
     "execution_count": 11,
     "metadata": {},
     "output_type": "execute_result"
    }
   ],
   "source": [
    "data.columns"
   ]
  },
  {
   "cell_type": "code",
   "execution_count": 12,
   "id": "b51c510b-852f-4121-b568-c1cc9cd150b6",
   "metadata": {},
   "outputs": [],
   "source": [
    "# Handling missing values\n",
    "\n",
    "for col in data.columns:\n",
    "    data[col] = data[col].fillna(data[col].mean())"
   ]
  },
  {
   "cell_type": "code",
   "execution_count": 13,
   "id": "21123fcc-d873-41a2-bbbb-baa07a4fe845",
   "metadata": {},
   "outputs": [
    {
     "data": {
      "text/plain": [
       "Gender               0\n",
       "Married              0\n",
       "Dependents           0\n",
       "Education            0\n",
       "Self_Employed        0\n",
       "ApplicantIncome      0\n",
       "CoapplicantIncome    0\n",
       "LoanAmount           0\n",
       "Loan_Amount_Term     0\n",
       "Credit_History       0\n",
       "Property_Area        0\n",
       "Loan_Status          0\n",
       "dtype: int64"
      ]
     },
     "execution_count": 13,
     "metadata": {},
     "output_type": "execute_result"
    }
   ],
   "source": [
    "# now checking missing values again\n",
    "data.isnull().sum()"
   ]
  },
  {
   "cell_type": "markdown",
   "id": "e2187591-33da-4fa8-8f91-7df98211cef3",
   "metadata": {},
   "source": [
    "As there is no missing value then we must proceed to model training.\r\n",
    "\r\n"
   ]
  },
  {
   "cell_type": "markdown",
   "id": "6eefa1dc-6586-4761-8d8c-768788bb5bfc",
   "metadata": {},
   "source": [
    "# Splitting dataset"
   ]
  },
  {
   "cell_type": "code",
   "execution_count": 14,
   "id": "d30ca688-b336-40a3-95f5-8b2c0412eca1",
   "metadata": {},
   "outputs": [],
   "source": [
    "from sklearn.model_selection import train_test_split"
   ]
  },
  {
   "cell_type": "code",
   "execution_count": 15,
   "id": "21e2272d-6cc5-4458-a478-e8740c1a59ab",
   "metadata": {},
   "outputs": [],
   "source": [
    "X = data.drop([\"Loan_Status\"],axis = 1)\n",
    "Y = data[\"Loan_Status\"]"
   ]
  },
  {
   "cell_type": "code",
   "execution_count": 16,
   "id": "fe34de72-f1f4-4835-90e2-10003b1e0a23",
   "metadata": {},
   "outputs": [
    {
     "data": {
      "text/plain": [
       "((598, 11), (598,))"
      ]
     },
     "execution_count": 16,
     "metadata": {},
     "output_type": "execute_result"
    }
   ],
   "source": [
    "X.shape , Y.shape"
   ]
  },
  {
   "cell_type": "code",
   "execution_count": 17,
   "id": "55c770e9-a8af-489c-a181-54146a53c2b6",
   "metadata": {},
   "outputs": [],
   "source": [
    "X_train , X_test , Y_train , Y_test = train_test_split(X , Y , test_size = 0.2 , random_state = 1)"
   ]
  },
  {
   "cell_type": "code",
   "execution_count": 18,
   "id": "b17eadf2-0d52-4385-9d91-7a6bebbb1d4c",
   "metadata": {},
   "outputs": [
    {
     "data": {
      "text/plain": [
       "((478, 11), (120, 11), (478,), (120,))"
      ]
     },
     "execution_count": 18,
     "metadata": {},
     "output_type": "execute_result"
    }
   ],
   "source": [
    "X_train.shape , X_test.shape , Y_train.shape , Y_test.shape"
   ]
  },
  {
   "cell_type": "markdown",
   "id": "b7689d5c-358d-4366-a914-cf306e8fbd2e",
   "metadata": {},
   "source": [
    "# Model Training and Evaluation"
   ]
  },
  {
   "cell_type": "raw",
   "id": "fb65163f-af07-4033-a1ed-22f01b7c63c7",
   "metadata": {},
   "source": [
    "As this is a classification problem so we will be using these models : \n",
    "\n",
    "KNeighborsClassifiers\n",
    "RandomForestClassifiers\n",
    "Support Vector Classifiers (SVC)\n",
    "Logistics Regression"
   ]
  },
  {
   "cell_type": "code",
   "execution_count": 19,
   "id": "5906bbcd-4e22-43b1-8205-ea0bf9b5a0f9",
   "metadata": {},
   "outputs": [],
   "source": [
    "from sklearn.neighbors import KNeighborsClassifier\n",
    "from sklearn.ensemble import RandomForestClassifier\n",
    "from sklearn.svm import SVC\n",
    "from sklearn.linear_model import LogisticRegression"
   ]
  },
  {
   "cell_type": "code",
   "execution_count": 20,
   "id": "1933acc4-ffff-4fa2-a95b-c71a6dbd5d7d",
   "metadata": {},
   "outputs": [],
   "source": [
    "knn = KNeighborsClassifier(n_neighbors = 3)\n",
    "rfc = RandomForestClassifier(n_estimators = 7 , criterion = 'entropy' , random_state = 7)\n",
    "svc = SVC()\n",
    "lc = LogisticRegression()"
   ]
  },
  {
   "cell_type": "raw",
   "id": "7bfa48f4-f520-47a2-955f-feb58806effe",
   "metadata": {},
   "source": [
    "To predict the accuracy we will use the accuracy score function from scikit-learn library."
   ]
  },
  {
   "cell_type": "code",
   "execution_count": 21,
   "id": "9f174c88-4b69-41ca-9b85-189913c094f9",
   "metadata": {},
   "outputs": [],
   "source": [
    "from sklearn import metrics "
   ]
  },
  {
   "cell_type": "code",
   "execution_count": 22,
   "id": "59784590-27bd-4b89-a0bb-231bcc2b4d47",
   "metadata": {},
   "outputs": [
    {
     "name": "stdout",
     "output_type": "stream",
     "text": [
      "Accuracy score of  RandomForestClassifier = 96.02510460251045\n",
      "Accuracy score of  KNeighborsClassifier = 79.9163179916318\n",
      "Accuracy score of  SVC = 68.41004184100419\n",
      "Accuracy score of  LogisticRegression = 79.70711297071131\n"
     ]
    }
   ],
   "source": [
    "# making predictions on the training set \n",
    "for clf in (rfc, knn, svc,lc): \n",
    "    clf.fit(X_train, Y_train) \n",
    "    Y_pred = clf.predict(X_train) \n",
    "    print(\"Accuracy score of \", \n",
    "          clf.__class__.__name__, \n",
    "          \"=\",100*metrics.accuracy_score(Y_train,  \n",
    "                                         Y_pred))"
   ]
  },
  {
   "cell_type": "code",
   "execution_count": 23,
   "id": "e924ac78-a647-4265-a274-0d8cdea08bba",
   "metadata": {},
   "outputs": [
    {
     "name": "stdout",
     "output_type": "stream",
     "text": [
      "Accuracy score of  RandomForestClassifier = 80.0\n",
      "Accuracy score of  KNeighborsClassifier = 60.0\n",
      "Accuracy score of  SVC = 72.5\n",
      "Accuracy score of  LogisticRegression = 85.0\n"
     ]
    }
   ],
   "source": [
    "# Prediction on the test set:\n",
    "\n",
    "for clf in (rfc, knn, svc,lc): \n",
    "    clf.fit(X_train, Y_train) \n",
    "    Y_pred = clf.predict(X_test) \n",
    "    print(\"Accuracy score of \", \n",
    "          clf.__class__.__name__,\"=\", \n",
    "          100*metrics.accuracy_score(Y_test, \n",
    "                                     Y_pred))"
   ]
  },
  {
   "cell_type": "markdown",
   "id": "95493d20-6a15-4dbc-ba53-ff444a5eef89",
   "metadata": {},
   "source": [
    "Conclusion : \n",
    "Random Forest Classifier is giving the best accuracy with an\n",
    "accuracy score of 82% for the testing dataset. And to get much better results\n",
    "ensemble learning techniques like Bagging and Boosting can also be used.\n"
   ]
  },
  {
   "cell_type": "code",
   "execution_count": null,
   "id": "797bd3f5-bfd4-4fb6-abbb-dd937b59120d",
   "metadata": {},
   "outputs": [],
   "source": []
  }
 ],
 "metadata": {
  "kernelspec": {
   "display_name": "Python 3 (ipykernel)",
   "language": "python",
   "name": "python3"
  },
  "language_info": {
   "codemirror_mode": {
    "name": "ipython",
    "version": 3
   },
   "file_extension": ".py",
   "mimetype": "text/x-python",
   "name": "python",
   "nbconvert_exporter": "python",
   "pygments_lexer": "ipython3",
   "version": "3.11.4"
  }
 },
 "nbformat": 4,
 "nbformat_minor": 5
}
